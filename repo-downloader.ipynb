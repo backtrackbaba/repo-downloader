{
 "cells": [
  {
   "cell_type": "code",
   "execution_count": 1,
   "metadata": {
    "ExecuteTime": {
     "end_time": "2018-06-03T07:43:58.247832Z",
     "start_time": "2018-06-03T07:43:58.144481Z"
    }
   },
   "outputs": [],
   "source": [
    "# Import Libraries\n",
    "import platform\n",
    "import math\n",
    "import requests"
   ]
  },
  {
   "cell_type": "code",
   "execution_count": 2,
   "metadata": {
    "ExecuteTime": {
     "end_time": "2018-06-03T07:44:05.243574Z",
     "start_time": "2018-06-03T07:44:05.240265Z"
    }
   },
   "outputs": [],
   "source": [
    "# Paste your Access token here\n",
    "# To create an access token - https://github.com/settings/tokens\n",
    "token = \"access_token=\" + \"access_token_here\"\n",
    "\n",
    "# Base API Endpoint\n",
    "base_api_url = 'https://api.github.com/'"
   ]
  },
  {
   "cell_type": "code",
   "execution_count": 3,
   "metadata": {
    "ExecuteTime": {
     "end_time": "2018-06-03T07:44:09.001155Z",
     "start_time": "2018-06-03T07:44:06.104464Z"
    }
   },
   "outputs": [
    {
     "name": "stdout",
     "output_type": "stream",
     "text": [
      "Enter the username \n",
      "backtrackbaba\n",
      "\n",
      " Username entered is backtrackbaba \n",
      "\n"
     ]
    }
   ],
   "source": [
    "# Enter the Username or the Organization name to download the Repositories\n",
    "# Ex: machine+learning to search for Machine Learning\n",
    "print('Enter the username ')\n",
    "\n",
    "username = input()\n",
    "print('\\n Username entered is', username, '\\n')"
   ]
  },
  {
   "cell_type": "code",
   "execution_count": 4,
   "metadata": {
    "ExecuteTime": {
     "end_time": "2018-06-03T07:44:13.720904Z",
     "start_time": "2018-06-03T07:44:13.717632Z"
    }
   },
   "outputs": [],
   "source": [
    "# URL Endpoint to get User Info - mainly the number of Repositories\n",
    "user_info_url = base_api_url + \"users/\" + username\n",
    "\n",
    "# Base URL Endpoint to Access Repository Data\n",
    "repository_base_url = base_api_url + \"users/\" + username + \"/repos?\" + token"
   ]
  },
  {
   "cell_type": "code",
   "execution_count": 5,
   "metadata": {
    "ExecuteTime": {
     "end_time": "2018-06-03T07:44:17.404652Z",
     "start_time": "2018-06-03T07:44:15.951776Z"
    }
   },
   "outputs": [],
   "source": [
    "# Hit the User Info API Endpoint and get the JSON response\n",
    "user_info_response = requests.get(user_info_url).json()"
   ]
  },
  {
   "cell_type": "code",
   "execution_count": 6,
   "metadata": {
    "ExecuteTime": {
     "end_time": "2018-06-03T07:44:20.803985Z",
     "start_time": "2018-06-03T07:44:20.799598Z"
    }
   },
   "outputs": [
    {
     "name": "stdout",
     "output_type": "stream",
     "text": [
      "No of Repositories for backtrackbaba is 132\n"
     ]
    }
   ],
   "source": [
    "# Check for the number of repositories of the user\n",
    "no_of_repositories = user_info_response['public_repos']\n",
    "\n",
    "# Calculate the number of pages to for pagination\n",
    "# A JSON request for the User repo data contains only 30 projects. \n",
    "# Dividing the repos by 30 and ceiling it shows the number of requests to be made\n",
    "pages = int(math.ceil(no_of_repositories / 30.0))\n",
    "print (\"No of Repositories for {0} is {1}\".format(username, no_of_repositories))"
   ]
  },
  {
   "cell_type": "code",
   "execution_count": 7,
   "metadata": {
    "ExecuteTime": {
     "end_time": "2018-06-03T07:44:23.002702Z",
     "start_time": "2018-06-03T07:44:22.999458Z"
    }
   },
   "outputs": [],
   "source": [
    "# Create an empty file to store the clone URL's and then execute it \n",
    "file = open('git-clone.sh', 'w')\n",
    "file.close()"
   ]
  },
  {
   "cell_type": "code",
   "execution_count": 8,
   "metadata": {
    "ExecuteTime": {
     "end_time": "2018-06-03T07:44:34.700720Z",
     "start_time": "2018-06-03T07:44:27.031528Z"
    }
   },
   "outputs": [
    {
     "name": "stdout",
     "output_type": "stream",
     "text": [
      "https://github.com/backtrackbaba/005-count-word.git\n",
      "https://github.com/backtrackbaba/010-celsius-to-fahrenheit.git\n",
      "https://github.com/backtrackbaba/014-remove-duplicates-from-list.git\n",
      "https://github.com/backtrackbaba/015-check-palindrome-list.git\n",
      "https://github.com/backtrackbaba/016-grab-last-element.git\n",
      "https://github.com/backtrackbaba/017-sort-dict-by-value.git\n",
      "https://github.com/backtrackbaba/018-concat-dicts.git\n",
      "https://github.com/backtrackbaba/019-check-key-existence.git\n",
      "https://github.com/backtrackbaba/020-key-val-tuples.git\n",
      "https://github.com/backtrackbaba/025-sum-values-in-dict.git\n",
      "https://github.com/backtrackbaba/026-remove-key-from-dict.git\n",
      "https://github.com/backtrackbaba/027-join-lists-into-dict.git\n",
      "https://github.com/backtrackbaba/028-sort-dict-keys.git\n",
      "https://github.com/backtrackbaba/029-max-min-dict-values.git\n",
      "https://github.com/backtrackbaba/030-join-dicts.git\n",
      "https://github.com/backtrackbaba/032-sum-items-of-list.git\n",
      "https://github.com/backtrackbaba/033-count-strings-same-extreme.git\n",
      "https://github.com/backtrackbaba/035-check-common-item.git\n",
      "https://github.com/backtrackbaba/036-flatten-list.git\n",
      "https://github.com/backtrackbaba/037-find-second-smallest-num.git\n",
      "https://github.com/backtrackbaba/061-count-even-odd.git\n",
      "https://github.com/backtrackbaba/087-convert-list-to-series.git\n",
      "https://github.com/backtrackbaba/100-check-unique-chars.git\n",
      "https://github.com/backtrackbaba/100-pandas-puzzles.git\n",
      "https://github.com/backtrackbaba/103-compress-string.git\n",
      "https://github.com/backtrackbaba/Adafruit-Eagle-Library.git\n",
      "https://github.com/backtrackbaba/aqua-dashboard.git\n",
      "https://github.com/backtrackbaba/Arduino.git\n",
      "https://github.com/backtrackbaba/Arduino-CC2500-Library.git\n",
      "https://github.com/backtrackbaba/Arduino-CC2500-Library-1.git\n",
      "https://github.com/backtrackbaba/awesome.git\n",
      "https://github.com/backtrackbaba/awesome-dashboard.git\n",
      "https://github.com/backtrackbaba/awesome-public-datasets.git\n",
      "https://github.com/backtrackbaba/awesome-python.git\n",
      "https://github.com/backtrackbaba/backtrackbaba.github.io.git\n",
      "https://github.com/backtrackbaba/basic-sentiment-analysis.git\n",
      "https://github.com/backtrackbaba/boot-notification.git\n",
      "https://github.com/backtrackbaba/bootstrap-sweetalert.git\n",
      "https://github.com/backtrackbaba/choropleth.git\n",
      "https://github.com/backtrackbaba/coding-interview-university.git\n",
      "https://github.com/backtrackbaba/commit-live-cli.git\n",
      "https://github.com/backtrackbaba/cosmos.git\n",
      "https://github.com/backtrackbaba/coursera-dl.git\n",
      "https://github.com/backtrackbaba/CricLiveNotifier.git\n",
      "https://github.com/backtrackbaba/curriculum.git\n",
      "https://github.com/backtrackbaba/dashing-js.git\n",
      "https://github.com/backtrackbaba/data.git\n",
      "https://github.com/backtrackbaba/data-science-from-scratch.git\n",
      "https://github.com/backtrackbaba/Desktop-Notifier-Example.git\n",
      "https://github.com/backtrackbaba/docker-curriculum.git\n",
      "https://github.com/backtrackbaba/docker-stacks.git\n",
      "https://github.com/backtrackbaba/dockerfiles.git\n",
      "https://github.com/backtrackbaba/EasyERP_open_source.git\n",
      "https://github.com/backtrackbaba/ecs-nginx-proxy.git\n",
      "https://github.com/backtrackbaba/EngineeringNotebook2012-2013.git\n",
      "https://github.com/backtrackbaba/essential-electron.git\n",
      "https://github.com/backtrackbaba/fastgpio-arduino.git\n",
      "https://github.com/backtrackbaba/foobugs-dashboard.git\n",
      "https://github.com/backtrackbaba/Free-Computer-Science-University.git\n",
      "https://github.com/backtrackbaba/free-programming-books.git\n",
      "https://github.com/backtrackbaba/FreeRTOS-Arduino.git\n",
      "https://github.com/backtrackbaba/fsdse-commit-live.git\n",
      "https://github.com/backtrackbaba/fsdse-python-assignment-1.git\n",
      "https://github.com/backtrackbaba/fsdse-python-assignment-2.git\n",
      "https://github.com/backtrackbaba/fsdse-python-assignment-3.git\n",
      "https://github.com/backtrackbaba/fsdse-python-assignment-7.git\n",
      "https://github.com/backtrackbaba/fsdse-python-assignment-8.git\n",
      "https://github.com/backtrackbaba/fsdse-techbasics-assignment-1.git\n",
      "https://github.com/backtrackbaba/github-search-api.git\n",
      "https://github.com/backtrackbaba/go.git\n",
      "https://github.com/backtrackbaba/greyatom-ide.git\n",
      "https://github.com/backtrackbaba/hacker-rank.git\n",
      "https://github.com/backtrackbaba/hacker-scripts.git\n",
      "https://github.com/backtrackbaba/handsome.git\n",
      "https://github.com/backtrackbaba/Hotels.git\n",
      "https://github.com/backtrackbaba/ide.git\n",
      "https://github.com/backtrackbaba/intro-to-python-advance.git\n",
      "https://github.com/backtrackbaba/intro-to-python-basics.git\n",
      "https://github.com/backtrackbaba/intro-to-python-intermediate.git\n",
      "https://github.com/backtrackbaba/IoT-Dashboard.git\n",
      "https://github.com/backtrackbaba/ipython-extensions.git\n",
      "https://github.com/backtrackbaba/jupyter_contrib_nbextensions.git\n",
      "https://github.com/backtrackbaba/Knowledgebase.git\n",
      "https://github.com/backtrackbaba/lazy-scripts.git\n",
      "https://github.com/backtrackbaba/LearnDataScience.git\n",
      "https://github.com/backtrackbaba/miniflux.git\n",
      "https://github.com/backtrackbaba/mjml2html.git\n",
      "https://github.com/backtrackbaba/mkdocs-material.git\n",
      "https://github.com/backtrackbaba/mnist-harsh.git\n",
      "https://github.com/backtrackbaba/movie-synopsis.git\n",
      "https://github.com/backtrackbaba/nbtest.git\n",
      "https://github.com/backtrackbaba/nlp-datasets.git\n",
      "https://github.com/backtrackbaba/node-yummy.git\n",
      "https://github.com/backtrackbaba/NotebookEngine.git\n",
      "https://github.com/backtrackbaba/numpy-100.git\n",
      "https://github.com/backtrackbaba/offline-first.git\n",
      "https://github.com/backtrackbaba/online-cv.git\n",
      "https://github.com/backtrackbaba/pandas.git\n",
      "https://github.com/backtrackbaba/pandas-tutorial.git\n",
      "https://github.com/backtrackbaba/proj1.git\n",
      "https://github.com/backtrackbaba/public-apis.git\n",
      "https://github.com/backtrackbaba/Public_Speaking.git\n",
      "https://github.com/backtrackbaba/py-sendgrid.git\n",
      "https://github.com/backtrackbaba/Python-programming-exercises.git\n",
      "https://github.com/backtrackbaba/python_getting_started_project.git\n",
      "https://github.com/backtrackbaba/pyxl.git\n",
      "https://github.com/backtrackbaba/Remote-Monitoring-Dashboard.git\n",
      "https://github.com/backtrackbaba/repo-downloader.git\n",
      "https://github.com/backtrackbaba/repoall.git\n",
      "https://github.com/backtrackbaba/responsive-html-email-template.git\n",
      "https://github.com/backtrackbaba/RF24.git\n",
      "https://github.com/backtrackbaba/Robot2011-2012.git\n",
      "https://github.com/backtrackbaba/Robot2013-2014.git\n",
      "https://github.com/backtrackbaba/Rocket.Chat.git\n",
      "https://github.com/backtrackbaba/S3-Uploads.git\n",
      "https://github.com/backtrackbaba/saipy.git\n",
      "https://github.com/backtrackbaba/scipy-2017-sklearn.git\n",
      "https://github.com/backtrackbaba/simple-modbus.git\n",
      "https://github.com/backtrackbaba/social-media-dashboard.git\n",
      "https://github.com/backtrackbaba/SparkFun-Eagle-Libraries.git\n",
      "https://github.com/backtrackbaba/spb-site-media.git\n",
      "https://github.com/backtrackbaba/spectacle.git\n",
      "https://github.com/backtrackbaba/STM32L152RE.git\n",
      "https://github.com/backtrackbaba/telepot.git\n",
      "https://github.com/backtrackbaba/Test1.git\n",
      "https://github.com/backtrackbaba/test_app.git\n",
      "https://github.com/backtrackbaba/USB_Host_Shield_2.0.git\n",
      "https://github.com/backtrackbaba/VarSpeedServo.git\n",
      "https://github.com/backtrackbaba/w3-total-cache-fixed.git\n",
      "https://github.com/backtrackbaba/Website.git\n",
      "https://github.com/backtrackbaba/wedding.git\n",
      "https://github.com/backtrackbaba/wp-workflow-staging.git\n"
     ]
    }
   ],
   "source": [
    "# Iterate over the pagination for the requests\n",
    "for page in range(1, pages + 1):\n",
    "    \n",
    "    # Create a paginated URL to get Repository Data\n",
    "    page_url = repository_base_url + \"&page=\" + str(page)\n",
    "    \n",
    "    # Hit the generated paginated URL and get the JSON Response\n",
    "    page_response = requests.get(page_url).json()\n",
    "    \n",
    "    # Since all the JSON requests won't have same number of repositores in them\n",
    "    # We calculate the number of repositores and iterate accourdingly and store it in the shell script\n",
    "    for i in range(len(page_response)):\n",
    "        print (page_response[i]['clone_url'])\n",
    "        file = open('git-clone.sh', 'a')\n",
    "        file.write('git clone ' + page_response[i]['clone_url'] + \"\\n\")\n",
    "        file.close()\n",
    "        \n",
    "        "
   ]
  },
  {
   "cell_type": "code",
   "execution_count": null,
   "metadata": {
    "ExecuteTime": {
     "end_time": "2018-06-03T06:58:08.185750Z",
     "start_time": "2018-06-03T06:58:08.135419Z"
    }
   },
   "outputs": [],
   "source": [
    "#Subprocess System call to execute the script file and start the cloning process\n",
    "subprocess.call('git-clone.sh', shell=True)\n",
    "\n",
    "#Delete the script file after cloning\n",
    "os.remove('git-clone.sh')"
   ]
  }
 ],
 "metadata": {
  "kernelspec": {
   "display_name": "Python 3",
   "language": "python",
   "name": "python3"
  },
  "language_info": {
   "codemirror_mode": {
    "name": "ipython",
    "version": 3
   },
   "file_extension": ".py",
   "mimetype": "text/x-python",
   "name": "python",
   "nbconvert_exporter": "python",
   "pygments_lexer": "ipython3",
   "version": "3.6.4"
  },
  "notify_time": "5"
 },
 "nbformat": 4,
 "nbformat_minor": 2
}
